{
 "cells": [
  {
   "cell_type": "markdown",
   "metadata": {},
   "source": [
    "# Cubode Coding Challenge\n",
    "-----\n",
    "\n",
    "## Day 6 - Dictionaries\n",
    "\n",
    "This notebook explores python dictionaries, from the basics to the advance uses of them.\n",
    "\n",
    "![alt text](../Assets/Logo.png \"Cubode\")\n"
   ]
  },
  {
   "cell_type": "markdown",
   "metadata": {},
   "source": [
    "## 1. Theory\n",
    "\n",
    "A dictionary is a simple data structure that maps a dictionary name to a set of key/value pairs. It can be used e.g. to provide additional translations.\n",
    "\n",
    "It can be used as a language dictionary in which a key (word to search) maps (or equals) to a value (translation).\n",
    "\n",
    "For example:\n",
    "\n",
    "\n",
    "```python\n",
    "\n",
    "dog : perro \n",
    "cat : gato\n",
    "mouse : raton\n",
    "```\n",
    "\n",
    "The above example can be translated to code as easy as follows:\n",
    "\n",
    "```python\n",
    "\n",
    "dictionary = {\n",
    "    'dog': 'perro',\n",
    "    'cat' : 'gato',\n",
    "    'mouse' : 'raton'\n",
    "}\n",
    "```"
   ]
  },
  {
   "cell_type": "markdown",
   "metadata": {},
   "source": [
    "#### 2. Declare a Dictionary\n",
    "\n",
    "To declare a dictionary there are several methods"
   ]
  },
  {
   "cell_type": "code",
   "execution_count": 2,
   "metadata": {},
   "outputs": [
    {
     "name": "stdout",
     "output_type": "stream",
     "text": [
      "{}\n"
     ]
    }
   ],
   "source": [
    "# Declare empty dictionary\n",
    "dictionary = {}\n",
    "print(dictionary)"
   ]
  },
  {
   "cell_type": "code",
   "execution_count": 3,
   "metadata": {},
   "outputs": [
    {
     "name": "stdout",
     "output_type": "stream",
     "text": [
      "{'Name': 'Rebeca', 'Sex': 'Female', 'Hair': 'Brown', 'Age': 30}\n"
     ]
    }
   ],
   "source": [
    "# Declare pre-filled dictionary\n",
    "dictionary = {\n",
    "    'Name': 'Rebeca', \n",
    "    'Sex': 'Female', \n",
    "    'Hair': 'Brown',\n",
    "    'Age': 30\n",
    "}\n",
    "print(dictionary)"
   ]
  },
  {
   "cell_type": "code",
   "execution_count": 34,
   "metadata": {},
   "outputs": [
    {
     "name": "stdout",
     "output_type": "stream",
     "text": [
      "{'Age': 30,\n",
      " 'Hair': 'Brown',\n",
      " 'Name': 'Rebeca',\n",
      " 'Sex': 'Female',\n",
      " 'countries': ['UK', 'US', 'Germany', 'Spain'],\n",
      " 'favourite_numbers': [1, 5, 7],\n",
      " 'subdictionary': {'cat': 'gato', 'dog': 'perro'}}\n"
     ]
    }
   ],
   "source": [
    "# Use pretty print to print dictionaries, it is a package of python that makes printing of dictionaries much nicer\n",
    "\n",
    "from pprint import pprint\n",
    "pprint(dictionary)"
   ]
  },
  {
   "cell_type": "markdown",
   "metadata": {},
   "source": [
    "#### 3. Access Elements and Add Elements to a Dictionary"
   ]
  },
  {
   "cell_type": "code",
   "execution_count": 35,
   "metadata": {},
   "outputs": [
    {
     "name": "stdout",
     "output_type": "stream",
     "text": [
      "{'Age': 30,\n",
      " 'Hair': 'Brown',\n",
      " 'Name': 'Rebeca',\n",
      " 'Sex': 'Female',\n",
      " 'dog': 'Shih Tzu',\n",
      " 'home': 'house'}\n"
     ]
    }
   ],
   "source": [
    "# Add elements\n",
    "dictionary = {\n",
    "    'Name': 'Rebeca', \n",
    "    'Sex': 'Female', \n",
    "    'Hair': 'Brown',\n",
    "    'Age': 30\n",
    "}\n",
    "\n",
    "dictionary['home'] = 'house'\n",
    "dictionary['dog'] = 'Shih Tzu'\n",
    "\n",
    "pprint(dictionary)"
   ]
  },
  {
   "cell_type": "code",
   "execution_count": 36,
   "metadata": {},
   "outputs": [
    {
     "name": "stdout",
     "output_type": "stream",
     "text": [
      "{'Age': 30,\n",
      " 'Hair': 'Brown',\n",
      " 'Name': 'Rebeca',\n",
      " 'Sex': 'Female',\n",
      " 'countries': ['UK', 'US', 'Germany', 'Spain'],\n",
      " 'favourite_numbers': [1, 5, 7],\n",
      " 'subdictionary': {'cat': 'gato', 'dog': 'perro'}}\n"
     ]
    }
   ],
   "source": [
    "# Lists can be added to dictionaies as well, also other dictionaries\n",
    "dictionary = {\n",
    "    'Name': 'Rebeca', \n",
    "    'Sex': 'Female', \n",
    "    'Hair': 'Brown',\n",
    "    'Age': 30\n",
    "}\n",
    "\n",
    "dictionary['countries'] = ['UK', 'US', 'Germany', 'Spain']\n",
    "dictionary['favourite_numbers'] = [1,5,7]\n",
    "dictionary['subdictionary'] = {'dog': 'perro', 'cat': 'gato'}\n",
    "\n",
    "pprint(dictionary)"
   ]
  },
  {
   "cell_type": "code",
   "execution_count": 8,
   "metadata": {},
   "outputs": [
    {
     "name": "stdout",
     "output_type": "stream",
     "text": [
      "30\n",
      "Female\n",
      "30\n",
      "Female\n"
     ]
    },
    {
     "data": {
      "text/plain": [
       "(None, None)"
      ]
     },
     "execution_count": 8,
     "metadata": {},
     "output_type": "execute_result"
    }
   ],
   "source": [
    "# Access elements\n",
    "\n",
    "dictionary = {\n",
    "    'Name': 'Rebeca', \n",
    "    'Sex': 'Female', \n",
    "    'Hair': 'Brown',\n",
    "    'Age': 30\n",
    "}\n",
    "\n",
    "# Two ways:\n",
    "\n",
    "## 1. Directly access the member\n",
    "print(dictionary['Age']), print(dictionary['Sex'])\n",
    "\n",
    "## 2. Access with get\n",
    "print(dictionary.get('Age')), print(dictionary.get('Sex'))"
   ]
  },
  {
   "cell_type": "code",
   "execution_count": 18,
   "metadata": {},
   "outputs": [
    {
     "name": "stdout",
     "output_type": "stream",
     "text": [
      "This will raise a KeyError because that key does not exist in the dictionary\n"
     ]
    },
    {
     "ename": "KeyError",
     "evalue": "'House'",
     "output_type": "error",
     "traceback": [
      "\u001b[0;31m---------------------------------------------------------------------------\u001b[0m",
      "\u001b[0;31mKeyError\u001b[0m                                  Traceback (most recent call last)",
      "\u001b[1;32m/home/dark/Desktop/CUBODE/CODINGCHALLENGE/codingchallenge/Day6/Dictionaries.ipynb Cell 9'\u001b[0m in \u001b[0;36m<cell line: 17>\u001b[0;34m()\u001b[0m\n\u001b[1;32m     <a href='vscode-notebook-cell:/home/dark/Desktop/CUBODE/CODINGCHALLENGE/codingchallenge/Day6/Dictionaries.ipynb#ch0000013?line=14'>15</a>\u001b[0m \u001b[39m## 1. We try to access House in the dictionary - It will raise a KeyError (the key does not exist)\u001b[39;00m\n\u001b[1;32m     <a href='vscode-notebook-cell:/home/dark/Desktop/CUBODE/CODINGCHALLENGE/codingchallenge/Day6/Dictionaries.ipynb#ch0000013?line=15'>16</a>\u001b[0m \u001b[39mprint\u001b[39m(\u001b[39m\"\u001b[39m\u001b[39mThis will raise a KeyError because that key does not exist in the dictionary\u001b[39m\u001b[39m\"\u001b[39m)\n\u001b[0;32m---> <a href='vscode-notebook-cell:/home/dark/Desktop/CUBODE/CODINGCHALLENGE/codingchallenge/Day6/Dictionaries.ipynb#ch0000013?line=16'>17</a>\u001b[0m \u001b[39mprint\u001b[39m(dictionary[\u001b[39m'\u001b[39;49m\u001b[39mHouse\u001b[39;49m\u001b[39m'\u001b[39;49m])\n",
      "\u001b[0;31mKeyError\u001b[0m: 'House'"
     ]
    }
   ],
   "source": [
    "# Access Elements 2\n",
    "\n",
    "## Get is much better because if the key does not exist, it will not return an error.\n",
    "## Imagine the following dictionary:\n",
    "\n",
    "# Access elements\n",
    "dictionary = {\n",
    "    'Name': 'Rebeca', \n",
    "    'Sex': 'Female', \n",
    "    'Hair': 'Brown',\n",
    "    'Age': 30\n",
    "}\n",
    "\n",
    "\n",
    "## 1. We try to access House in the dictionary - It will raise a KeyError (the key does not exist)\n",
    "print(\"This will raise a KeyError because that key does not exist in the dictionary:\")\n",
    "print(dictionary['House'])"
   ]
  },
  {
   "cell_type": "code",
   "execution_count": 19,
   "metadata": {},
   "outputs": [
    {
     "name": "stdout",
     "output_type": "stream",
     "text": [
      "No errors: it prints None when it does not exist \n",
      " None\n"
     ]
    }
   ],
   "source": [
    "## If we use get then it will give no errors:\n",
    "print(\"No errors: it prints None when it does not exist \\n\", dictionary.get('House'))"
   ]
  },
  {
   "cell_type": "code",
   "execution_count": 21,
   "metadata": {},
   "outputs": [
    {
     "name": "stdout",
     "output_type": "stream",
     "text": [
      "This is Default Value\n",
      "Brown\n",
      "Ford\n"
     ]
    }
   ],
   "source": [
    "## We can give default values when a value we want to access does not exist\n",
    "print(dictionary.get('House', 'This is Default Value'))\n",
    "print(dictionary.get('Horse', 'Brown'))\n",
    "print(dictionary.get('Car', 'Ford'))"
   ]
  },
  {
   "cell_type": "markdown",
   "metadata": {},
   "source": [
    "### 4. Delete members "
   ]
  },
  {
   "cell_type": "code",
   "execution_count": 23,
   "metadata": {},
   "outputs": [
    {
     "name": "stdout",
     "output_type": "stream",
     "text": [
      "Full dictionary  {'Name': 'Rebeca', 'Sex': 'Female', 'Hair': 'Brown', 'Age': 30}\n",
      "Dictionary without Age {'Name': 'Rebeca', 'Sex': 'Female', 'Hair': 'Brown'}\n"
     ]
    }
   ],
   "source": [
    "# Access elements\n",
    "dictionary = {\n",
    "    'Name': 'Rebeca', \n",
    "    'Sex': 'Female', \n",
    "    'Hair': 'Brown',\n",
    "    'Age': 30\n",
    "}\n",
    "\n",
    "\n",
    "# First way\n",
    "print(\"Full dictionary \", dictionary)\n",
    "dictionary.pop('Age')\n",
    "print(\"Dictionary without Age\", dictionary)"
   ]
  },
  {
   "cell_type": "markdown",
   "metadata": {},
   "source": [
    "### 5. Operations on dictionaries\n",
    "\n",
    "Using a for loop we can iterate through each key in a dictionary as shown below:"
   ]
  },
  {
   "cell_type": "code",
   "execution_count": 37,
   "metadata": {},
   "outputs": [
    {
     "name": "stdout",
     "output_type": "stream",
     "text": [
      "{'Name': 'Tanu', 'Sex': 'Male', 'Age': 23, 'Height': 5.8, 'Occupation': 'Student'}\n"
     ]
    }
   ],
   "source": [
    "dictionary = {'Name': 'Tanu', 'Sex': 'Male', 'Age': 23, 'Height': 5.8, 'Occupation': 'Student'}\n",
    "print(dictionary)"
   ]
  },
  {
   "cell_type": "code",
   "execution_count": 39,
   "metadata": {},
   "outputs": [
    {
     "name": "stdout",
     "output_type": "stream",
     "text": [
      "Dictionary value:  Tanu\n",
      "Dictionary value:  Male\n",
      "Dictionary value:  23\n",
      "Dictionary value:  5.8\n",
      "Dictionary value:  Student\n"
     ]
    }
   ],
   "source": [
    "# Iterating through the values\n",
    "for i in dictionary:\n",
    "    print(\"Dictionary value: \", dictionary[i])"
   ]
  },
  {
   "cell_type": "code",
   "execution_count": 41,
   "metadata": {},
   "outputs": [
    {
     "name": "stdout",
     "output_type": "stream",
     "text": [
      "Dictionary key:  Name\n",
      "Dictionary key:  Sex\n",
      "Dictionary key:  Age\n",
      "Dictionary key:  Height\n",
      "Dictionary key:  Occupation\n"
     ]
    }
   ],
   "source": [
    "# Iterating through the keys\n",
    "for i in dictionary:\n",
    "    print(\"Dictionary key: \", i)"
   ]
  },
  {
   "cell_type": "code",
   "execution_count": 44,
   "metadata": {},
   "outputs": [
    {
     "name": "stdout",
     "output_type": "stream",
     "text": [
      "key: Name, value: Tanu\n",
      "key: Sex, value: Male\n",
      "key: Age, value: 23\n",
      "key: Height, value: 5.8\n",
      "key: Occupation, value: Student\n"
     ]
    }
   ],
   "source": [
    "# Iterating through keys and values\n",
    "for key, value in dictionary.items():\n",
    "    print(f\"key: {key}, value: {value}\")"
   ]
  },
  {
   "cell_type": "markdown",
   "metadata": {},
   "source": [
    "The length () method in the dictionary returns the length of the dictionary (obviously). It returns the number of items of the dictionary."
   ]
  },
  {
   "cell_type": "code",
   "execution_count": 45,
   "metadata": {},
   "outputs": [
    {
     "name": "stdout",
     "output_type": "stream",
     "text": [
      "5\n"
     ]
    }
   ],
   "source": [
    "dictionary = {'Name': 'Tanu', 'Sex': 'Male', 'Age': 23, 'Height': 5.8, 'Occupation': 'Student'}\n",
    "print(len(dictionary))"
   ]
  },
  {
   "cell_type": "markdown",
   "metadata": {},
   "source": [
    "Sort the dictionary keys"
   ]
  },
  {
   "cell_type": "code",
   "execution_count": 47,
   "metadata": {},
   "outputs": [
    {
     "name": "stdout",
     "output_type": "stream",
     "text": [
      "['Age', 'Height', 'Name', 'Occupation', 'Sex']\n"
     ]
    }
   ],
   "source": [
    "dictionary = {'Name': 'Tanu', 'Sex': 'Male', 'Age': 23, 'Height': 5.8, 'Occupation': 'Student'}\n",
    "print(sorted(dictionary))"
   ]
  },
  {
   "cell_type": "markdown",
   "metadata": {},
   "source": [
    "Copy a dictionary\n",
    "\n",
    "This is a tricky as one could think that create a new variable and equal it to the dictionary would make a copy of it, but that will make the dictionary a reference to the other dictionary. "
   ]
  },
  {
   "cell_type": "code",
   "execution_count": 52,
   "metadata": {},
   "outputs": [
    {
     "name": "stdout",
     "output_type": "stream",
     "text": [
      "dictionary2,  {'Name': 'Tanu', 'Sex': 'Male', 'Age': 23, 'Height': 5.8, 'Occupation': 'Student'}\n",
      "dictionary1,  {'Name': 'Rebeca', 'Sex': 'Male', 'Age': 23, 'Height': 5.8, 'Occupation': 'Student'}\n"
     ]
    }
   ],
   "source": [
    "## check this\n",
    "dictionary1 = {'Name': 'Tanu', 'Sex': 'Male', 'Age': 23, 'Height': 5.8, 'Occupation': 'Student'}\n",
    "dictionary2 = dictionary1\n",
    "\n",
    "print(\"dictionary2, \",dictionary2)\n",
    "\n",
    "# Now we change the dictionary1 (no dictionary2)\n",
    "dictionary1['Name'] = 'Rebeca'\n",
    "print(\"dictionary1, \",dictionary1)"
   ]
  },
  {
   "cell_type": "code",
   "execution_count": 54,
   "metadata": {},
   "outputs": [
    {
     "name": "stdout",
     "output_type": "stream",
     "text": [
      "{'Name': 'Rebeca', 'Sex': 'Male', 'Age': 23, 'Height': 5.8, 'Occupation': 'Student'}\n",
      "Name has been changed to Rebeca. But we did not modify dictionary 2; this is because dictionary 1 and dictionary 2 are referenced with each other\n"
     ]
    }
   ],
   "source": [
    "# Check what happened to dictionary 2\n",
    "print(dictionary2)\n",
    "\n",
    "print(\"Name has been changed to Rebeca. But we did not modify dictionary 2; this is because dictionary 1 and dictionary 2 are referenced with each other\")"
   ]
  },
  {
   "cell_type": "code",
   "execution_count": 56,
   "metadata": {},
   "outputs": [
    {
     "name": "stdout",
     "output_type": "stream",
     "text": [
      "\n",
      "orginal dictionary2,  {'Name': 'Tanu', 'Sex': 'Male', 'Age': 23, 'Height': 5.8, 'Occupation': 'Student'}\n",
      "\n",
      "orginal dictionary1,  {'Name': 'Tanu', 'Sex': 'Male', 'Age': 23, 'Height': 5.8, 'Occupation': 'Student'}\n",
      "\n",
      "changed dictionary1,  {'Name': 'Rebeca', 'Sex': 'Male', 'Age': 23, 'Height': 5.8, 'Occupation': 'Student'}\n",
      "\n",
      "dictionary2,  {'Name': 'Tanu', 'Sex': 'Male', 'Age': 23, 'Height': 5.8, 'Occupation': 'Student'}\n"
     ]
    }
   ],
   "source": [
    "# To avoid this we just use copy!\n",
    "\n",
    "dictionary1 = {'Name': 'Tanu', 'Sex': 'Male', 'Age': 23, 'Height': 5.8, 'Occupation': 'Student'}\n",
    "dictionary2 = dictionary1.copy()\n",
    "\n",
    "print(\"\\norginal dictionary2, \",dictionary2)\n",
    "print(\"\\norginal dictionary1, \",dictionary1)\n",
    "\n",
    "dictionary1['Name'] = 'Rebeca'\n",
    "\n",
    "print(\"\\nchanged dictionary1, \",dictionary1)\n",
    "print(\"\\ndictionary2, \",dictionary2)"
   ]
  }
 ],
 "metadata": {
  "interpreter": {
   "hash": "9f9826aa9aaeeb8b74e6f4494e2c0935b1d3d03461d0c478f6143a9ff4bb2c32"
  },
  "kernelspec": {
   "display_name": "Python 3.8.5 ('venv': venv)",
   "language": "python",
   "name": "python3"
  },
  "language_info": {
   "codemirror_mode": {
    "name": "ipython",
    "version": 3
   },
   "file_extension": ".py",
   "mimetype": "text/x-python",
   "name": "python",
   "nbconvert_exporter": "python",
   "pygments_lexer": "ipython3",
   "version": "3.8.5"
  },
  "orig_nbformat": 4
 },
 "nbformat": 4,
 "nbformat_minor": 2
}
